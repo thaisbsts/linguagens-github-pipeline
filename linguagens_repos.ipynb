{
 "cells": [
  {
   "cell_type": "markdown",
   "id": "90a08cf6",
   "metadata": {},
   "source": [
    "# Explorando a Requests"
   ]
  },
  {
   "cell_type": "code",
   "execution_count": 72,
   "id": "01beb1d0",
   "metadata": {},
   "outputs": [],
   "source": [
    "import requests\n",
    "from dotenv import load_dotenv \n",
    "import os\n",
    "import pandas as pd\n",
    "import base64"
   ]
  },
  {
   "cell_type": "code",
   "execution_count": 40,
   "id": "726568fd",
   "metadata": {},
   "outputs": [
    {
     "data": {
      "text/plain": [
       "True"
      ]
     },
     "execution_count": 40,
     "metadata": {},
     "output_type": "execute_result"
    }
   ],
   "source": [
    "# Lê o arquivo .env e carrega as variáveis no ambiente do Python\n",
    "load_dotenv()"
   ]
  },
  {
   "cell_type": "code",
   "execution_count": 41,
   "id": "b4b2147b",
   "metadata": {},
   "outputs": [],
   "source": [
    "# Retorna uma lista dos eventos públicos mais recentes do GitHub\n",
    "r = requests.get('https://api.github.com/events')"
   ]
  },
  {
   "cell_type": "code",
   "execution_count": 42,
   "id": "0dea6d54",
   "metadata": {},
   "outputs": [
    {
     "data": {
      "text/plain": [
       "<Response [200]>"
      ]
     },
     "execution_count": 42,
     "metadata": {},
     "output_type": "execute_result"
    }
   ],
   "source": [
    "r"
   ]
  },
  {
   "cell_type": "code",
   "execution_count": 43,
   "id": "cec6d079",
   "metadata": {},
   "outputs": [
    {
     "data": {
      "text/plain": [
       "'https://api.github.com/events'"
      ]
     },
     "execution_count": 43,
     "metadata": {},
     "output_type": "execute_result"
    }
   ],
   "source": [
    "r.url"
   ]
  },
  {
   "cell_type": "code",
   "execution_count": null,
   "id": "538b7532",
   "metadata": {},
   "outputs": [],
   "source": [
    "# Retorna todo conteúdo em uma única string\n",
    "r.text"
   ]
  },
  {
   "cell_type": "code",
   "execution_count": null,
   "id": "bd4da157",
   "metadata": {},
   "outputs": [],
   "source": [
    "# Retorna todo conteúdo em formato json\n",
    "r.json()"
   ]
  },
  {
   "cell_type": "code",
   "execution_count": 46,
   "id": "5c91f62e",
   "metadata": {},
   "outputs": [
    {
     "data": {
      "text/plain": [
       "200"
      ]
     },
     "execution_count": 46,
     "metadata": {},
     "output_type": "execute_result"
    }
   ],
   "source": [
    "# Utilizando outro endpoint\n",
    "r = requests.get('https://api.github.com/users/thaisbsts')\n",
    "r.status_code"
   ]
  },
  {
   "cell_type": "code",
   "execution_count": null,
   "id": "8ee1e807",
   "metadata": {},
   "outputs": [],
   "source": [
    "# Mostra as informações sobre o usuário\n",
    "r.json()"
   ]
  },
  {
   "cell_type": "code",
   "execution_count": 48,
   "id": "7e779f76",
   "metadata": {},
   "outputs": [],
   "source": [
    "response_json = r.json()"
   ]
  },
  {
   "cell_type": "code",
   "execution_count": 49,
   "id": "e9b0332a",
   "metadata": {},
   "outputs": [],
   "source": [
    "# Extraindo a url que armazena as informações sobre repositórios\n",
    "repos_url = response_json[\"repos_url\"]\n",
    "\n",
    "# Extraindo as informações da url de repositórios\n",
    "response_repos = requests.get(repos_url)"
   ]
  },
  {
   "cell_type": "code",
   "execution_count": 50,
   "id": "398c4f58",
   "metadata": {},
   "outputs": [],
   "source": [
    "# Tranformando em json e coletando o nº de elementos\n",
    "repos = response_repos.json()\n",
    "n_repos = len(repos)"
   ]
  },
  {
   "cell_type": "code",
   "execution_count": 51,
   "id": "88e559ed",
   "metadata": {},
   "outputs": [],
   "source": [
    "# Extraindo o nome, nome de usuário e data de criação da conta\n",
    "name = response_json[\"name\"]\n",
    "username = response_json[\"login\"]\n",
    "date_created = response_json[\"created_at\"][0:10]"
   ]
  },
  {
   "cell_type": "code",
   "execution_count": 52,
   "id": "8f59de75",
   "metadata": {},
   "outputs": [
    {
     "name": "stdout",
     "output_type": "stream",
     "text": [
      "O usuário Thais Bastos (thaisbsts) criou sua conta no dia 2024-06-07 e possui 14 repositórios.\n"
     ]
    }
   ],
   "source": [
    "# Imprimindo as informações\n",
    "print(f\"O usuário {name} ({username}) criou sua conta no dia {date_created} e possui {n_repos} repositórios.\")"
   ]
  },
  {
   "cell_type": "markdown",
   "id": "107c367f",
   "metadata": {},
   "source": [
    "# Obtendo dados dos repositórios"
   ]
  },
  {
   "cell_type": "code",
   "execution_count": 53,
   "id": "ece40cd8",
   "metadata": {},
   "outputs": [],
   "source": [
    "# Especificando a versão da API\n",
    "headers = {'X-GitHub-Api-Version': '2022-11-28'}"
   ]
  },
  {
   "cell_type": "code",
   "execution_count": 54,
   "id": "5424e21f",
   "metadata": {},
   "outputs": [],
   "source": [
    "api_base_url = 'https://api.github.com'\n",
    "owner = 'amzn' # Username de quem vamos extrair os dados (Amazon)\n",
    "url = f'{api_base_url}/users/{owner}/repos'"
   ]
  },
  {
   "cell_type": "code",
   "execution_count": 55,
   "id": "c846565f",
   "metadata": {},
   "outputs": [
    {
     "data": {
      "text/plain": [
       "200"
      ]
     },
     "execution_count": 55,
     "metadata": {},
     "output_type": "execute_result"
    }
   ],
   "source": [
    "# Obtendo lista de repositórios da Amazon\n",
    "response = requests.get(url, headers=headers)\n",
    "response.status_code"
   ]
  },
  {
   "cell_type": "code",
   "execution_count": 56,
   "id": "2ea88182",
   "metadata": {},
   "outputs": [
    {
     "data": {
      "text/plain": [
       "30"
      ]
     },
     "execution_count": 56,
     "metadata": {},
     "output_type": "execute_result"
    }
   ],
   "source": [
    "''' \n",
    "Apesar do código abaixo retornar o número 30, a Amazon não possui apenas 30 repositórios.\n",
    "Para acessar todos, é preciso considerar tanto a autenticação quanto a paginação da API.\n",
    "'''\n",
    "\n",
    "len(response.json())"
   ]
  },
  {
   "cell_type": "markdown",
   "id": "58dd1424",
   "metadata": {},
   "source": [
    "## Autenticação\n",
    "Caso eu não faça a autenticação, o limite de requisições por hora é 60."
   ]
  },
  {
   "cell_type": "code",
   "execution_count": 57,
   "id": "22f07ba1",
   "metadata": {},
   "outputs": [],
   "source": [
    "# Token gerado no Github\n",
    "access_token = os.getenv('API_KEY')\n",
    "headers = { 'Authorization': 'Bearer ' + access_token,\n",
    "           'X-GitHub-Api-Version': '2022-11-28'\n",
    "           }"
   ]
  },
  {
   "cell_type": "code",
   "execution_count": 58,
   "id": "6659299f",
   "metadata": {},
   "outputs": [
    {
     "data": {
      "text/plain": [
       "200"
      ]
     },
     "execution_count": 58,
     "metadata": {},
     "output_type": "execute_result"
    }
   ],
   "source": [
    "# Teste para verificar se está correto\n",
    "response = requests.get(url, headers=headers)\n",
    "response.status_code"
   ]
  },
  {
   "cell_type": "markdown",
   "id": "59c60b56",
   "metadata": {},
   "source": [
    "## Paginação"
   ]
  },
  {
   "cell_type": "code",
   "execution_count": 59,
   "id": "7167a68e",
   "metadata": {},
   "outputs": [],
   "source": [
    "api_base_url = 'https://api.github.com'\n",
    "owner = 'amzn' # Username de quem vamos extrair os dados (Amazon)\n",
    "url = f'{api_base_url}/users/{owner}/repos'\n",
    "\n",
    "repos_list = [] # Lista de listas, cada lista é uma página\n",
    "for page_num in range(1, 7):\n",
    "    try:\n",
    "        url_page = f'{url}?page={page_num}'\n",
    "        response = requests.get(url_page, headers=headers)\n",
    "        repos_list.append(response.json())\n",
    "    except:\n",
    "        repos_list.append(None)"
   ]
  },
  {
   "cell_type": "code",
   "execution_count": 60,
   "id": "fc518b42",
   "metadata": {},
   "outputs": [
    {
     "name": "stdout",
     "output_type": "stream",
     "text": [
      "161\n"
     ]
    }
   ],
   "source": [
    "soma = 0\n",
    "for i in range(0, 6):\n",
    "    soma += len(repos_list[i])\n",
    "\n",
    "print(soma)"
   ]
  },
  {
   "cell_type": "code",
   "execution_count": 61,
   "id": "c8ab7af4",
   "metadata": {},
   "outputs": [],
   "source": [
    "''' \n",
    "Atividade: encontrar a quantidade de seguidores da Amazon.\n",
    "'''\n",
    "\n",
    "username = 'amzn'\n",
    "url = f\"https://api.github.com/users/{username}/followers\"\n",
    "followers_list = []\n",
    "page = 1\n",
    "\n",
    "''' \n",
    "Como o número total de páginas é desconhecido, usarei um while True \n",
    "com a condição de parada sendo quando a página retornar zero itens (seguidores).\n",
    "'''\n",
    "while True: \n",
    "    url_page = f'{url}?page={page}'\n",
    "    response = requests.get(url_page, headers=headers)\n",
    "    followers = response.json()\n",
    "\n",
    "    # Caso a lista esteja vazia, posso sair do laço pois todos os dados foram extraidos\n",
    "    if len(followers)==0:\n",
    "        break\n",
    "\n",
    "    # Adicionando os seguidores a lista\n",
    "    followers_list.append(followers)\n",
    "\n",
    "    # Incrementa o valor de 'page' para a próxima requisição\n",
    "    page += 1\n"
   ]
  },
  {
   "cell_type": "code",
   "execution_count": 62,
   "id": "44a9f1f9",
   "metadata": {},
   "outputs": [
    {
     "name": "stdout",
     "output_type": "stream",
     "text": [
      "A Amazon tem 2118 seguidores.\n"
     ]
    }
   ],
   "source": [
    "# Somando e imprimindo o resultado\n",
    "total = sum(len(page) for page in followers_list)\n",
    "print(f\"A Amazon tem {total} seguidores.\")"
   ]
  },
  {
   "cell_type": "markdown",
   "id": "0ffa79e7",
   "metadata": {},
   "source": [
    "# Linguagens dos Repositórios"
   ]
  },
  {
   "cell_type": "code",
   "execution_count": null,
   "id": "c6b6b76c",
   "metadata": {},
   "outputs": [],
   "source": [
    "# Extraindo apenas a linguagem usada em cada repositório\n",
    "repos_languages = []\n",
    "\n",
    "for page in repos_list:\n",
    "    for repo in page:\n",
    "        repos_languages.append(repo['language'])"
   ]
  },
  {
   "cell_type": "markdown",
   "id": "e9f61c86",
   "metadata": {},
   "source": [
    "# Nomes dos Repositórios"
   ]
  },
  {
   "cell_type": "code",
   "execution_count": null,
   "id": "00798d27",
   "metadata": {},
   "outputs": [],
   "source": [
    "# Extraindo os nomes dos repositórios \n",
    "repos_names = []\n",
    "for page in repos_list:\n",
    "    for repo in page:\n",
    "        repos_names.append(repo[\"name\"])"
   ]
  },
  {
   "cell_type": "markdown",
   "id": "56135295",
   "metadata": {},
   "source": [
    "# Criando um DataFrame\n",
    "Um dataframe é uma representação programática de uma tabela que facilita a visualização, filtragem e manipulação de dados. Por isso, vou converter o conteúdo extraído da API para essa estrutura."
   ]
  },
  {
   "cell_type": "code",
   "execution_count": 69,
   "id": "3d80b917",
   "metadata": {},
   "outputs": [],
   "source": [
    "''' \n",
    "Criando um DataFrame e adicionando duas colunas com os dados\n",
    "que foram extraídos anteriormente (nomes dos repositórios e a\n",
    "linguagem usada em cada um).\n",
    "'''\n",
    "\n",
    "dados_amzn = pd.DataFrame()\n",
    "dados_amzn[\"repository_name\"] = repos_names\n",
    "dados_amzn[\"language\"] = repos_languages"
   ]
  },
  {
   "cell_type": "code",
   "execution_count": 70,
   "id": "591c7811",
   "metadata": {},
   "outputs": [
    {
     "data": {
      "text/html": [
       "<div>\n",
       "<style scoped>\n",
       "    .dataframe tbody tr th:only-of-type {\n",
       "        vertical-align: middle;\n",
       "    }\n",
       "\n",
       "    .dataframe tbody tr th {\n",
       "        vertical-align: top;\n",
       "    }\n",
       "\n",
       "    .dataframe thead th {\n",
       "        text-align: right;\n",
       "    }\n",
       "</style>\n",
       "<table border=\"1\" class=\"dataframe\">\n",
       "  <thead>\n",
       "    <tr style=\"text-align: right;\">\n",
       "      <th></th>\n",
       "      <th>repository_name</th>\n",
       "      <th>language</th>\n",
       "    </tr>\n",
       "  </thead>\n",
       "  <tbody>\n",
       "    <tr>\n",
       "      <th>0</th>\n",
       "      <td>.github</td>\n",
       "      <td>None</td>\n",
       "    </tr>\n",
       "    <tr>\n",
       "      <th>1</th>\n",
       "      <td>ads-advanced-tools-docs</td>\n",
       "      <td>Jupyter Notebook</td>\n",
       "    </tr>\n",
       "    <tr>\n",
       "      <th>2</th>\n",
       "      <td>ads-pao-amznjs-gtm-server-side-template</td>\n",
       "      <td>Smarty</td>\n",
       "    </tr>\n",
       "    <tr>\n",
       "      <th>3</th>\n",
       "      <td>ads-pao-amznjs-gtm-template</td>\n",
       "      <td>Smarty</td>\n",
       "    </tr>\n",
       "    <tr>\n",
       "      <th>4</th>\n",
       "      <td>alexa-coho</td>\n",
       "      <td>JavaScript</td>\n",
       "    </tr>\n",
       "    <tr>\n",
       "      <th>...</th>\n",
       "      <td>...</td>\n",
       "      <td>...</td>\n",
       "    </tr>\n",
       "    <tr>\n",
       "      <th>156</th>\n",
       "      <td>zeek-plugin-enip</td>\n",
       "      <td>Zeek</td>\n",
       "    </tr>\n",
       "    <tr>\n",
       "      <th>157</th>\n",
       "      <td>zeek-plugin-profinet</td>\n",
       "      <td>Zeek</td>\n",
       "    </tr>\n",
       "    <tr>\n",
       "      <th>158</th>\n",
       "      <td>zeek-plugin-s7comm</td>\n",
       "      <td>Zeek</td>\n",
       "    </tr>\n",
       "    <tr>\n",
       "      <th>159</th>\n",
       "      <td>zeek-plugin-tds</td>\n",
       "      <td>Zeek</td>\n",
       "    </tr>\n",
       "    <tr>\n",
       "      <th>160</th>\n",
       "      <td>zero-shot-rlhr</td>\n",
       "      <td>Python</td>\n",
       "    </tr>\n",
       "  </tbody>\n",
       "</table>\n",
       "<p>161 rows × 2 columns</p>\n",
       "</div>"
      ],
      "text/plain": [
       "                             repository_name          language\n",
       "0                                    .github              None\n",
       "1                    ads-advanced-tools-docs  Jupyter Notebook\n",
       "2    ads-pao-amznjs-gtm-server-side-template            Smarty\n",
       "3                ads-pao-amznjs-gtm-template            Smarty\n",
       "4                                 alexa-coho        JavaScript\n",
       "..                                       ...               ...\n",
       "156                         zeek-plugin-enip              Zeek\n",
       "157                     zeek-plugin-profinet              Zeek\n",
       "158                       zeek-plugin-s7comm              Zeek\n",
       "159                          zeek-plugin-tds              Zeek\n",
       "160                           zero-shot-rlhr            Python\n",
       "\n",
       "[161 rows x 2 columns]"
      ]
     },
     "metadata": {},
     "output_type": "display_data"
    }
   ],
   "source": [
    "display(dados_amzn)"
   ]
  },
  {
   "cell_type": "code",
   "execution_count": null,
   "id": "23a50d6f",
   "metadata": {},
   "outputs": [],
   "source": [
    "# Salvando os dados em um csv\n",
    "dados_amzn.to_csv('amazon.csv')"
   ]
  },
  {
   "cell_type": "markdown",
   "id": "5ac48fbf",
   "metadata": {},
   "source": [
    "# Disponibilizando o conteúdo\n",
    "Por fim, é necessário disponibilizar os dados extraídos para que outros times da empresa onde trabalhamos também tenham acesso. Para isso, pode-se criar um repositório no Github com a ajuda da própria biblioteca Requests."
   ]
  },
  {
   "cell_type": "code",
   "execution_count": null,
   "id": "162fbfec",
   "metadata": {},
   "outputs": [],
   "source": [
    "'''\n",
    "Não é necessário especificar meu username pois a API reconhece quem está fazendo \n",
    "a requisição com base no token de acesso fornecido no cabeçalho/headers.\n",
    "'''\n",
    "\n",
    "'''\n",
    "api_base_url = 'https://api.github.com'\n",
    "url = f'{api_base_url}/user/repos' \n",
    "\n",
    "# Dados do repositório\n",
    "data = {\n",
    "    'name': 'linguagens-utilizadas',\n",
    "    'description': 'Repositorio com as linguagens de prog da Amazon',\n",
    "    'private': False\n",
    "}\n",
    "\n",
    "response = requests.post(url, json=data, headers=headers)\n",
    "\n",
    "# O repositório foi criado. Agora é necessário fazer o upload do arquivo.\n",
    "# Segundo a documentação, o arquivo precisa estar em Base64, então é necessário transformar o csv.\n",
    "\n",
    "with open('amazon.csv', 'rb') as file:\n",
    "    file_content = file.read()\n",
    "\n",
    "encoded_content = base64.b64encode(file_content)\n",
    "\n",
    "api_base_url = 'https://api.github.com'\n",
    "username = 'thaisbsts'\n",
    "repo = 'linguagens-utilizadas'\n",
    "path = 'amazon.csv'\n",
    "\n",
    "url = f'{api_base_url}/repos/{username}/{repo}/contents/{path}'\n",
    "\n",
    "data = {\n",
    "    'message': 'add: file with repositories languages',\n",
    "    'content': encoded_content.decode('utf-8')\n",
    "}\n",
    "\n",
    "response = requests.put(url, json=data, headers=headers)\n",
    "'''"
   ]
  }
 ],
 "metadata": {
  "kernelspec": {
   "display_name": "venv",
   "language": "python",
   "name": "python3"
  },
  "language_info": {
   "codemirror_mode": {
    "name": "ipython",
    "version": 3
   },
   "file_extension": ".py",
   "mimetype": "text/x-python",
   "name": "python",
   "nbconvert_exporter": "python",
   "pygments_lexer": "ipython3",
   "version": "3.12.3"
  }
 },
 "nbformat": 4,
 "nbformat_minor": 5
}
